{
 "cells": [
  {
   "cell_type": "code",
   "execution_count": 45,
   "metadata": {},
   "outputs": [],
   "source": [
    "import pandas as pd\n",
    "import numpy as np\n",
    "from sklearn.feature_extraction.text import CountVectorizer\n",
    "from sklearn.neural_network import MLPClassifier\n",
    "from sklearn.feature_extraction.text import TfidfVectorizer"
   ]
  },
  {
   "cell_type": "code",
   "execution_count": 3,
   "metadata": {},
   "outputs": [],
   "source": [
    "data = pd.read_csv('Tweets.csv')"
   ]
  },
  {
   "cell_type": "code",
   "execution_count": 56,
   "metadata": {},
   "outputs": [
    {
     "name": "stdout",
     "output_type": "stream",
     "text": [
      "(10248, 14770)\n",
      "(4392, 14770)\n"
     ]
    }
   ],
   "source": [
    "#data Preparation and feature extraction\n",
    "\n",
    "x=np.array(data['text'])\n",
    "y=np.array(data['airline_sentiment'])\n",
    "\n",
    "vectorizer = TfidfVectorizer(stop_words  = 'english', max_features=40000 ,use_idf =True)\n",
    "Features=vectorizer.fit_transform(x)\n",
    "\n",
    "totalDataSize=len(x)\n",
    "trainingPortion=int(len(x)*0.7)\n",
    "xTraining=Features[:trainingPortion,0:]\n",
    "yTraining=y[:trainingPortion]\n",
    "xTesting=Features[trainingPortion:,0:]\n",
    "yTesting=y[trainingPortion:]\n",
    "\n",
    "\n",
    "print(xTraining.shape)\n",
    "print(xTesting.shape)\n",
    "\n",
    "yClasses=[]\n",
    "for y in yTraining: \n",
    "    if y == 'neutral':\n",
    "        yClasses.append(0)\n",
    "    if y == 'positive':\n",
    "        yClasses.append(1)\n",
    "    if y == 'negative':\n",
    "        yClasses.append(-1)\n",
    "        \n",
    "yTestClasses=[]\n",
    "for y in yTesting: \n",
    "    if y == 'neutral':\n",
    "        yTestClasses.append(0)\n",
    "    if y == 'positive':\n",
    "        yTestClasses.append(1)\n",
    "    if y == 'negative':\n",
    "        yTestClasses.append(-1)\n",
    "\n",
    "\n"
   ]
  },
  {
   "cell_type": "code",
   "execution_count": 57,
   "metadata": {},
   "outputs": [
    {
     "name": "stdout",
     "output_type": "stream",
     "text": [
      "The value of the accuracy\n",
      "0.8103369763205829\n"
     ]
    }
   ],
   "source": [
    "clf=MLPClassifier(hidden_layer_sizes=(512,128),solver=\"adam\",early_stopping=True)\n",
    "clf.fit(xTraining,yClasses)\n",
    "predictions=clf.predict(xTesting)\n",
    "acc=clf.score(xTesting,yTestClasses)\n",
    "print(\"The value of the accuracy\")\n",
    "print(acc)"
   ]
  },
  {
   "cell_type": "code",
   "execution_count": null,
   "metadata": {},
   "outputs": [],
   "source": []
  }
 ],
 "metadata": {
  "kernelspec": {
   "display_name": "Python 3",
   "language": "python",
   "name": "python3"
  },
  "language_info": {
   "codemirror_mode": {
    "name": "ipython",
    "version": 3
   },
   "file_extension": ".py",
   "mimetype": "text/x-python",
   "name": "python",
   "nbconvert_exporter": "python",
   "pygments_lexer": "ipython3",
   "version": "3.6.5"
  }
 },
 "nbformat": 4,
 "nbformat_minor": 2
}
