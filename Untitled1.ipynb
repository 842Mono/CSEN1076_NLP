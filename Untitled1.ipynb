{
 "cells": [
  {
   "cell_type": "code",
   "execution_count": 1,
   "metadata": {},
   "outputs": [],
   "source": [
    "import pandas as pd\n",
    "import numpy as np\n",
    "from sklearn.feature_extraction.text import CountVectorizer\n",
    "from sklearn.neural_network import MLPClassifier\n",
    "from sklearn.feature_extraction.text import TfidfVectorizer"
   ]
  },
  {
   "cell_type": "code",
   "execution_count": 2,
   "metadata": {},
   "outputs": [],
   "source": [
    "data = pd.read_csv('Tweets.csv')"
   ]
  },
  {
   "cell_type": "code",
   "execution_count": 3,
   "metadata": {},
   "outputs": [],
   "source": [
    "#data Preparation and feature extraction\n",
    "\n",
    "x=np.array(data['text'])\n",
    "y=np.array(data['airline_sentiment'])"
   ]
  },
  {
   "cell_type": "code",
   "execution_count": 4,
   "metadata": {},
   "outputs": [
    {
     "name": "stdout",
     "output_type": "stream",
     "text": [
      "['@VirginAmerica What @dhepburn said.'\n",
      " \"@VirginAmerica plus you've added commercials to the experience... tacky.\"\n",
      " \"@VirginAmerica I didn't today... Must mean I need to take another trip!\"\n",
      " ... '@AmericanAir Please bring American Airlines to #BlackBerry10'\n",
      " \"@AmericanAir you have my money, you change my flight, and don't answer your phones! Any other suggestions so I can make my commitment??\"\n",
      " '@AmericanAir we have 8 ppl so we need 2 know how many seats are on the next flight. Plz put us on standby for 4 people on the next flight?']\n"
     ]
    }
   ],
   "source": [
    "#testing\n",
    "print(x)"
   ]
  },
  {
   "cell_type": "code",
   "execution_count": 6,
   "metadata": {},
   "outputs": [],
   "source": [
    "vectorizer = TfidfVectorizer(stop_words  = 'english', max_features=40000 ,use_idf =True)\n",
    "Features=vectorizer.fit_transform(x)"
   ]
  },
  {
   "cell_type": "code",
   "execution_count": 7,
   "metadata": {},
   "outputs": [
    {
     "name": "stdout",
     "output_type": "stream",
     "text": [
      "  (0, 14023)\t0.3592619585073184\n",
      "  (0, 4742)\t0.8187175006839158\n",
      "  (0, 11462)\t0.4479201929399568\n",
      "  (1, 14023)\t0.23596609417387326\n",
      "  (1, 10257)\t0.3538804909840808\n",
      "  (1, 13945)\t0.24160821958920017\n",
      "  (1, 1962)\t0.4099998351849633\n",
      "  (1, 3975)\t0.46968280281090025\n",
      "  (1, 5583)\t0.2878329817958803\n",
      "  (1, 12716)\t0.5377401260930988\n",
      "  (2, 14023)\t0.3470667529253444\n",
      "  (2, 4759)\t0.4221586947771582\n",
      "  (2, 13096)\t0.36386036545856326\n",
      "  (2, 8703)\t0.5232547450595533\n",
      "  (2, 9229)\t0.34433212330554264\n",
      "  (2, 13270)\t0.4202049506119881\n",
      "  (3, 14023)\t0.16876492670802487\n",
      "  (3, 10836)\t0.19017165284870652\n",
      "  (3, 2048)\t0.3576645266662032\n",
      "  (3, 3024)\t0.3688421982902348\n",
      "  (3, 9567)\t0.3688421982902348\n",
      "  (3, 5381)\t0.28493705393826524\n",
      "  (3, 6632)\t0.34899445098038323\n",
      "  (3, 5658)\t0.3576645266662032\n",
      "  (3, 2245)\t0.16195750295158515\n",
      "  :\t:\n",
      "  (14636, 14177)\t0.3688901832581311\n",
      "  (14637, 2098)\t0.3738138149921115\n",
      "  (14637, 3215)\t0.45473944178874964\n",
      "  (14637, 2222)\t0.17544921330758598\n",
      "  (14637, 2221)\t0.42056965148549036\n",
      "  (14637, 3006)\t0.6676930534323553\n",
      "  (14638, 5915)\t0.13385064954997244\n",
      "  (14638, 4983)\t0.24236943243674003\n",
      "  (14638, 3625)\t0.2652858777884001\n",
      "  (14638, 2315)\t0.32145987633670176\n",
      "  (14638, 8976)\t0.3284951429930552\n",
      "  (14638, 2222)\t0.14126600595082403\n",
      "  (14638, 8543)\t0.26421389360707404\n",
      "  (14638, 10123)\t0.3887439693176437\n",
      "  (14638, 3978)\t0.46956456215017983\n",
      "  (14638, 12530)\t0.4246659111542978\n",
      "  (14639, 9229)\t0.26069560374348977\n",
      "  (14639, 5915)\t0.2981806106829369\n",
      "  (14639, 11647)\t0.3217520730514085\n",
      "  (14639, 7950)\t0.2855079106528283\n",
      "  (14639, 10258)\t0.4413621967635394\n",
      "  (14639, 10044)\t0.2994347021241264\n",
      "  (14639, 12306)\t0.4017128067494856\n",
      "  (14639, 2222)\t0.15734994213617837\n",
      "  (14639, 10352)\t0.4330046755849596\n"
     ]
    }
   ],
   "source": [
    "print(Features)"
   ]
  },
  {
   "cell_type": "code",
   "execution_count": 56,
   "metadata": {},
   "outputs": [
    {
     "name": "stdout",
     "output_type": "stream",
     "text": [
      "(10248, 14770)\n",
      "(4392, 14770)\n"
     ]
    }
   ],
   "source": [
    "\n",
    "totalDataSize=len(x)\n",
    "trainingPortion=int(len(x)*0.7)\n",
    "xTraining=Features[:trainingPortion,0:]\n",
    "yTraining=y[:trainingPortion]\n",
    "xTesting=Features[trainingPortion:,0:]\n",
    "yTesting=y[trainingPortion:]\n",
    "\n",
    "\n",
    "print(xTraining.shape)\n",
    "print(xTesting.shape)\n",
    "\n",
    "yClasses=[]\n",
    "for y in yTraining: \n",
    "    if y == 'neutral':\n",
    "        yClasses.append(0)\n",
    "    if y == 'positive':\n",
    "        yClasses.append(1)\n",
    "    if y == 'negative':\n",
    "        yClasses.append(-1)\n",
    "        \n",
    "yTestClasses=[]\n",
    "for y in yTesting: \n",
    "    if y == 'neutral':\n",
    "        yTestClasses.append(0)\n",
    "    if y == 'positive':\n",
    "        yTestClasses.append(1)\n",
    "    if y == 'negative':\n",
    "        yTestClasses.append(-1)"
   ]
  },
  {
   "cell_type": "code",
   "execution_count": 57,
   "metadata": {},
   "outputs": [
    {
     "name": "stdout",
     "output_type": "stream",
     "text": [
      "The value of the accuracy\n",
      "0.8103369763205829\n"
     ]
    }
   ],
   "source": [
    "clf=MLPClassifier(hidden_layer_sizes=(512,128),solver=\"adam\",early_stopping=True)\n",
    "clf.fit(xTraining,yClasses)\n",
    "predictions=clf.predict(xTesting)\n",
    "acc=clf.score(xTesting,yTestClasses)\n",
    "print(\"The value of the accuracy\")\n",
    "print(acc)"
   ]
  },
  {
   "cell_type": "code",
   "execution_count": null,
   "metadata": {},
   "outputs": [],
   "source": []
  }
 ],
 "metadata": {
  "kernelspec": {
   "display_name": "Python 3",
   "language": "python",
   "name": "python3"
  },
  "language_info": {
   "codemirror_mode": {
    "name": "ipython",
    "version": 3
   },
   "file_extension": ".py",
   "mimetype": "text/x-python",
   "name": "python",
   "nbconvert_exporter": "python",
   "pygments_lexer": "ipython3",
   "version": "3.6.5"
  }
 },
 "nbformat": 4,
 "nbformat_minor": 2
}
